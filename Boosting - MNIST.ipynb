{
 "cells": [
  {
   "cell_type": "code",
   "execution_count": 2,
   "metadata": {
    "collapsed": false,
    "deletable": true,
    "editable": true
   },
   "outputs": [
    {
     "name": "stderr",
     "output_type": "stream",
     "text": [
      "/Users/gali/anaconda/envs/carnd-term1/lib/python3.5/site-packages/sklearn/cross_validation.py:41: DeprecationWarning: This module was deprecated in version 0.18 in favor of the model_selection module into which all the refactored classes and functions are moved. Also note that the interface of the new CV iterators are different from that of this module. This module will be removed in 0.20.\n",
      "  \"This module will be removed in 0.20.\", DeprecationWarning)\n"
     ]
    },
    {
     "name": "stdout",
     "output_type": "stream",
     "text": [
      "training...\n",
      "Fitting 3 folds for each of 24 candidates, totalling 72 fits\n",
      "[CV] learning_rate=1e-05, n_estimators=500, algorithm=SAMME ..........\n",
      "[CV] learning_rate=1e-05, n_estimators=500, algorithm=SAMME ..........\n",
      "[CV] learning_rate=1e-05, n_estimators=500, algorithm=SAMME ..........\n",
      "[CV] learning_rate=1e-05, n_estimators=400, algorithm=SAMME ..........\n",
      "[CV] learning_rate=1e-05, n_estimators=400, algorithm=SAMME ..........\n",
      "[CV] learning_rate=1e-05, n_estimators=400, algorithm=SAMME ..........\n",
      "[CV] learning_rate=0.0001, n_estimators=500, algorithm=SAMME .........\n",
      "[CV] learning_rate=0.0001, n_estimators=500, algorithm=SAMME .........\n",
      "[CV]  learning_rate=1e-05, n_estimators=500, algorithm=SAMME, score=0.7769784172661871, total=   3.2s\n",
      "[CV] learning_rate=0.0001, n_estimators=500, algorithm=SAMME .........\n",
      "[CV]  learning_rate=1e-05, n_estimators=500, algorithm=SAMME, score=0.7865505854097868, total=   3.1s\n",
      "[CV] learning_rate=0.0001, n_estimators=400, algorithm=SAMME .........\n",
      "[CV]  learning_rate=1e-05, n_estimators=500, algorithm=SAMME, score=0.7842784278427842, total=   3.3s\n",
      "[CV] learning_rate=0.0001, n_estimators=400, algorithm=SAMME .........\n"
     ]
    },
    {
     "name": "stderr",
     "output_type": "stream",
     "text": [
      "[Parallel(n_jobs=-1)]: Done   2 tasks      | elapsed:    3.6s\n"
     ]
    },
    {
     "name": "stdout",
     "output_type": "stream",
     "text": [
      "[CV]  learning_rate=1e-05, n_estimators=400, algorithm=SAMME, score=0.7865505854097868, total=   3.1s\n",
      "[CV]  learning_rate=1e-05, n_estimators=400, algorithm=SAMME, score=0.7769784172661871, total=   3.4s\n",
      "[CV] learning_rate=0.0001, n_estimators=400, algorithm=SAMME .........\n",
      "[CV] learning_rate=0.001, n_estimators=500, algorithm=SAMME ..........\n",
      "[CV]  learning_rate=1e-05, n_estimators=400, algorithm=SAMME, score=0.7842784278427842, total=   3.5s\n",
      "[CV] learning_rate=0.001, n_estimators=500, algorithm=SAMME ..........\n",
      "[CV]  learning_rate=0.0001, n_estimators=500, algorithm=SAMME, score=0.7769784172661871, total=   3.4s\n",
      "[CV] learning_rate=0.001, n_estimators=500, algorithm=SAMME ..........\n",
      "[CV]  learning_rate=0.0001, n_estimators=500, algorithm=SAMME, score=0.7842784278427842, total=   3.5s\n",
      "[CV] learning_rate=0.001, n_estimators=400, algorithm=SAMME ..........\n",
      "[CV]  learning_rate=0.0001, n_estimators=500, algorithm=SAMME, score=0.7814470129090363, total=   3.2s\n",
      "[CV] learning_rate=0.001, n_estimators=400, algorithm=SAMME ..........\n"
     ]
    },
    {
     "name": "stderr",
     "output_type": "stream",
     "text": [
      "[Parallel(n_jobs=-1)]: Done   9 tasks      | elapsed:    6.7s\n"
     ]
    },
    {
     "name": "stdout",
     "output_type": "stream",
     "text": [
      "[CV]  learning_rate=0.0001, n_estimators=400, algorithm=SAMME, score=0.7796762589928058, total=   3.3s\n",
      "[CV] learning_rate=0.001, n_estimators=400, algorithm=SAMME ..........\n",
      "[CV]  learning_rate=0.0001, n_estimators=400, algorithm=SAMME, score=0.78997899789979, total=   3.3s\n",
      "[CV] learning_rate=0.01, n_estimators=500, algorithm=SAMME ...........\n",
      "[CV]  learning_rate=0.0001, n_estimators=400, algorithm=SAMME, score=0.7814470129090363, total=   3.1s\n",
      "[CV] learning_rate=0.01, n_estimators=500, algorithm=SAMME ...........\n",
      "[CV]  learning_rate=0.001, n_estimators=500, algorithm=SAMME, score=0.7796762589928058, total=   3.2s\n",
      "[CV] learning_rate=0.01, n_estimators=500, algorithm=SAMME ...........\n",
      "[CV]  learning_rate=0.001, n_estimators=500, algorithm=SAMME, score=0.78997899789979, total=   3.2s\n",
      "[CV] learning_rate=0.01, n_estimators=400, algorithm=SAMME ...........\n",
      "[CV]  learning_rate=0.001, n_estimators=500, algorithm=SAMME, score=0.7814470129090363, total=   3.1s\n",
      "[CV] learning_rate=0.01, n_estimators=400, algorithm=SAMME ...........\n",
      "[CV]  learning_rate=0.001, n_estimators=400, algorithm=SAMME, score=0.7796762589928058, total=   3.2s\n",
      "[CV] learning_rate=0.01, n_estimators=400, algorithm=SAMME ...........\n"
     ]
    },
    {
     "name": "stderr",
     "output_type": "stream",
     "text": [
      "[Parallel(n_jobs=-1)]: Done  16 tasks      | elapsed:    8.0s\n"
     ]
    },
    {
     "name": "stdout",
     "output_type": "stream",
     "text": [
      "[CV]  learning_rate=0.001, n_estimators=400, algorithm=SAMME, score=0.7929792979297929, total=   3.2s\n",
      "[CV] learning_rate=0.1, n_estimators=500, algorithm=SAMME ............\n",
      "[CV]  learning_rate=0.001, n_estimators=400, algorithm=SAMME, score=0.7856499549684779, total=   2.9s\n",
      "[CV] learning_rate=0.1, n_estimators=500, algorithm=SAMME ............\n",
      "[CV]  learning_rate=0.01, n_estimators=500, algorithm=SAMME, score=0.7850719424460432, total=   3.3s\n",
      "[CV] learning_rate=0.1, n_estimators=500, algorithm=SAMME ............\n",
      "[CV]  learning_rate=0.01, n_estimators=500, algorithm=SAMME, score=0.7856499549684779, total=   3.1s\n",
      "[CV]  learning_rate=0.01, n_estimators=500, algorithm=SAMME, score=0.7929792979297929, total=   3.3s\n",
      "[CV] learning_rate=0.1, n_estimators=400, algorithm=SAMME ............\n",
      "[CV] learning_rate=0.1, n_estimators=400, algorithm=SAMME ............\n",
      "[CV]  learning_rate=0.01, n_estimators=400, algorithm=SAMME, score=0.7850719424460432, total=   3.2s\n",
      "[CV] learning_rate=0.1, n_estimators=400, algorithm=SAMME ............\n",
      "[CV]  learning_rate=0.01, n_estimators=400, algorithm=SAMME, score=0.7929792979297929, total=   3.2s\n",
      "[CV]  learning_rate=0.01, n_estimators=400, algorithm=SAMME, score=0.7856499549684779, total=   3.0s\n",
      "[CV] learning_rate=1, n_estimators=500, algorithm=SAMME ..............\n",
      "[CV] learning_rate=1, n_estimators=500, algorithm=SAMME ..............\n",
      "[CV]  learning_rate=0.1, n_estimators=500, algorithm=SAMME, score=0.7799760191846523, total=   2.7s\n",
      "[CV] learning_rate=1, n_estimators=500, algorithm=SAMME ..............\n",
      "[CV]  learning_rate=0.1, n_estimators=500, algorithm=SAMME, score=0.7851785178517852, total=   2.7s\n",
      "[CV] learning_rate=1, n_estimators=400, algorithm=SAMME ..............\n"
     ]
    },
    {
     "name": "stderr",
     "output_type": "stream",
     "text": [
      "[Parallel(n_jobs=-1)]: Done  25 tasks      | elapsed:   12.7s\n"
     ]
    },
    {
     "name": "stdout",
     "output_type": "stream",
     "text": [
      "[CV]  learning_rate=0.1, n_estimators=500, algorithm=SAMME, score=0.7826478534974483, total=   2.5s\n",
      "[CV] learning_rate=1, n_estimators=400, algorithm=SAMME ..............\n",
      "[CV]  learning_rate=0.1, n_estimators=400, algorithm=SAMME, score=0.7799760191846523, total=   2.7s\n",
      "[CV] learning_rate=1, n_estimators=400, algorithm=SAMME ..............\n",
      "[CV]  learning_rate=0.1, n_estimators=400, algorithm=SAMME, score=0.7851785178517852, total=   2.6s\n",
      "[CV]  learning_rate=0.1, n_estimators=400, algorithm=SAMME, score=0.7826478534974483, total=   2.5s\n",
      "[CV] learning_rate=1e-05, n_estimators=500, algorithm=SAMME.R ........\n",
      "[CV] learning_rate=1e-05, n_estimators=500, algorithm=SAMME.R ........\n",
      "[CV]  learning_rate=1, n_estimators=500, algorithm=SAMME, score=0.7799760191846523, total=   2.5s\n",
      "[CV] learning_rate=1e-05, n_estimators=500, algorithm=SAMME.R ........\n",
      "[CV]  learning_rate=1, n_estimators=500, algorithm=SAMME, score=0.7851785178517852, total=   2.5s\n",
      "[CV] learning_rate=1e-05, n_estimators=400, algorithm=SAMME.R ........\n",
      "[CV]  learning_rate=1, n_estimators=500, algorithm=SAMME, score=0.785049534674272, total=   2.3s\n",
      "[CV] learning_rate=1e-05, n_estimators=400, algorithm=SAMME.R ........\n",
      "[CV]  learning_rate=1, n_estimators=400, algorithm=SAMME, score=0.7772781774580336, total=   2.5s\n",
      "[CV] learning_rate=1e-05, n_estimators=400, algorithm=SAMME.R ........\n",
      "[CV]  learning_rate=1, n_estimators=400, algorithm=SAMME, score=0.7911791179117912, total=   2.5s\n",
      "[CV] learning_rate=0.0001, n_estimators=500, algorithm=SAMME.R .......\n"
     ]
    },
    {
     "name": "stderr",
     "output_type": "stream",
     "text": [
      "[Parallel(n_jobs=-1)]: Done  34 tasks      | elapsed:   15.4s\n"
     ]
    },
    {
     "name": "stdout",
     "output_type": "stream",
     "text": [
      "[CV]  learning_rate=1, n_estimators=400, algorithm=SAMME, score=0.785049534674272, total=   2.3s\n",
      "[CV] learning_rate=0.0001, n_estimators=500, algorithm=SAMME.R .......\n",
      "[CV]  learning_rate=1e-05, n_estimators=500, algorithm=SAMME.R, score=0.7772781774580336, total=   2.4s\n",
      "[CV] learning_rate=0.0001, n_estimators=500, algorithm=SAMME.R .......\n",
      "[CV]  learning_rate=1e-05, n_estimators=500, algorithm=SAMME.R, score=0.785049534674272, total=   2.3s\n",
      "[CV] learning_rate=0.0001, n_estimators=400, algorithm=SAMME.R .......\n",
      "[CV]  learning_rate=1e-05, n_estimators=500, algorithm=SAMME.R, score=0.7911791179117912, total=   2.5s\n",
      "[CV] learning_rate=0.0001, n_estimators=400, algorithm=SAMME.R .......\n",
      "[CV]  learning_rate=1e-05, n_estimators=400, algorithm=SAMME.R, score=0.7772781774580336, total=   2.4s\n",
      "[CV] learning_rate=0.0001, n_estimators=400, algorithm=SAMME.R .......\n",
      "[CV]  learning_rate=1e-05, n_estimators=400, algorithm=SAMME.R, score=0.7898528970279195, total=   2.3s\n",
      "[CV] learning_rate=0.001, n_estimators=500, algorithm=SAMME.R ........\n",
      "[CV]  learning_rate=1e-05, n_estimators=400, algorithm=SAMME.R, score=0.786978697869787, total=   2.6s\n",
      "[CV] learning_rate=0.001, n_estimators=500, algorithm=SAMME.R ........\n",
      "[CV]  learning_rate=0.0001, n_estimators=500, algorithm=SAMME.R, score=0.7757793764988009, total=   2.5s\n",
      "[CV] learning_rate=0.001, n_estimators=500, algorithm=SAMME.R ........\n",
      "[CV]  learning_rate=0.0001, n_estimators=500, algorithm=SAMME.R, score=0.786978697869787, total=   2.5s\n",
      "[CV]  learning_rate=0.0001, n_estimators=500, algorithm=SAMME.R, score=0.7898528970279195, total=   2.3s\n",
      "[CV] learning_rate=0.001, n_estimators=400, algorithm=SAMME.R ........\n",
      "[CV] learning_rate=0.001, n_estimators=400, algorithm=SAMME.R ........\n"
     ]
    },
    {
     "name": "stderr",
     "output_type": "stream",
     "text": [
      "[Parallel(n_jobs=-1)]: Done  45 tasks      | elapsed:   18.3s\n"
     ]
    },
    {
     "name": "stdout",
     "output_type": "stream",
     "text": [
      "[CV]  learning_rate=0.0001, n_estimators=400, algorithm=SAMME.R, score=0.7757793764988009, total=   2.4s\n",
      "[CV] learning_rate=0.001, n_estimators=400, algorithm=SAMME.R ........\n",
      "[CV]  learning_rate=0.0001, n_estimators=400, algorithm=SAMME.R, score=0.7898528970279195, total=   2.2s\n",
      "[CV]  learning_rate=0.0001, n_estimators=400, algorithm=SAMME.R, score=0.786978697869787, total=   2.4s\n",
      "[CV] learning_rate=0.01, n_estimators=500, algorithm=SAMME.R .........\n",
      "[CV] learning_rate=0.01, n_estimators=500, algorithm=SAMME.R .........\n",
      "[CV]  learning_rate=0.001, n_estimators=500, algorithm=SAMME.R, score=0.7799760191846523, total=   2.4s\n",
      "[CV] learning_rate=0.01, n_estimators=500, algorithm=SAMME.R .........\n",
      "[CV]  learning_rate=0.001, n_estimators=500, algorithm=SAMME.R, score=0.789078907890789, total=   2.5s\n",
      "[CV] learning_rate=0.01, n_estimators=400, algorithm=SAMME.R .........\n",
      "[CV]  learning_rate=0.001, n_estimators=500, algorithm=SAMME.R, score=0.7907535274692284, total=   2.3s\n",
      "[CV] learning_rate=0.01, n_estimators=400, algorithm=SAMME.R .........\n",
      "[CV]  learning_rate=0.001, n_estimators=400, algorithm=SAMME.R, score=0.7799760191846523, total=   2.5s\n",
      "[CV] learning_rate=0.01, n_estimators=400, algorithm=SAMME.R .........\n",
      "[CV]  learning_rate=0.001, n_estimators=400, algorithm=SAMME.R, score=0.7907535274692284, total=   2.3s\n",
      "[CV] learning_rate=0.1, n_estimators=500, algorithm=SAMME.R ..........\n",
      "[CV]  learning_rate=0.001, n_estimators=400, algorithm=SAMME.R, score=0.789078907890789, total=   2.6s\n",
      "[CV] learning_rate=0.1, n_estimators=500, algorithm=SAMME.R ..........\n",
      "[CV]  learning_rate=0.01, n_estimators=500, algorithm=SAMME.R, score=0.7799760191846523, total=   2.5s\n",
      "[CV] learning_rate=0.1, n_estimators=500, algorithm=SAMME.R ..........\n",
      "[CV]  learning_rate=0.01, n_estimators=500, algorithm=SAMME.R, score=0.789078907890789, total=   2.6s\n",
      "[CV] learning_rate=0.1, n_estimators=400, algorithm=SAMME.R ..........\n"
     ]
    },
    {
     "name": "stderr",
     "output_type": "stream",
     "text": [
      "[Parallel(n_jobs=-1)]: Done  56 tasks      | elapsed:   21.4s\n"
     ]
    },
    {
     "name": "stdout",
     "output_type": "stream",
     "text": [
      "[CV]  learning_rate=0.01, n_estimators=500, algorithm=SAMME.R, score=0.7820474332032422, total=   2.3s\n",
      "[CV] learning_rate=0.1, n_estimators=400, algorithm=SAMME.R ..........\n",
      "[CV]  learning_rate=0.01, n_estimators=400, algorithm=SAMME.R, score=0.7781774580335732, total=   2.5s\n",
      "[CV] learning_rate=0.1, n_estimators=400, algorithm=SAMME.R ..........\n",
      "[CV]  learning_rate=0.01, n_estimators=400, algorithm=SAMME.R, score=0.7818781878187819, total=   2.4s\n",
      "[CV] learning_rate=1, n_estimators=500, algorithm=SAMME.R ............\n",
      "[CV]  learning_rate=0.01, n_estimators=400, algorithm=SAMME.R, score=0.7820474332032422, total=   2.3s\n",
      "[CV] learning_rate=1, n_estimators=500, algorithm=SAMME.R ............\n",
      "[CV]  learning_rate=0.1, n_estimators=500, algorithm=SAMME.R, score=0.7781774580335732, total=   2.4s\n",
      "[CV] learning_rate=1, n_estimators=500, algorithm=SAMME.R ............\n",
      "[CV]  learning_rate=0.1, n_estimators=500, algorithm=SAMME.R, score=0.7820474332032422, total=   2.2s\n",
      "[CV]  learning_rate=0.1, n_estimators=500, algorithm=SAMME.R, score=0.7818781878187819, total=   2.4s\n",
      "[CV] learning_rate=1, n_estimators=400, algorithm=SAMME.R ............\n",
      "[CV] learning_rate=1, n_estimators=400, algorithm=SAMME.R ............\n",
      "[CV]  learning_rate=0.1, n_estimators=400, algorithm=SAMME.R, score=0.7781774580335732, total=   2.4s\n",
      "[CV] learning_rate=1, n_estimators=400, algorithm=SAMME.R ............\n",
      "[CV]  learning_rate=0.1, n_estimators=400, algorithm=SAMME.R, score=0.7911791179117912, total=   2.4s\n",
      "[CV]  learning_rate=0.1, n_estimators=400, algorithm=SAMME.R, score=0.7823476433503452, total=   2.2s\n"
     ]
    },
    {
     "name": "stderr",
     "output_type": "stream",
     "text": [
      "[Parallel(n_jobs=-1)]: Done  65 out of  72 | elapsed:   25.1s remaining:    2.7s\n"
     ]
    },
    {
     "name": "stdout",
     "output_type": "stream",
     "text": [
      "[CV]  learning_rate=1, n_estimators=500, algorithm=SAMME.R, score=0.7877697841726619, total=   2.3s\n",
      "[CV]  learning_rate=1, n_estimators=500, algorithm=SAMME.R, score=0.7911791179117912, total=   2.3s\n",
      "[CV]  learning_rate=1, n_estimators=500, algorithm=SAMME.R, score=0.7823476433503452, total=   2.1s\n",
      "[CV]  learning_rate=1, n_estimators=400, algorithm=SAMME.R, score=0.7877697841726619, total=   2.1s\n",
      "[CV]  learning_rate=1, n_estimators=400, algorithm=SAMME.R, score=0.7911791179117912, total=   2.1s\n",
      "[CV]  learning_rate=1, n_estimators=400, algorithm=SAMME.R, score=0.7823476433503452, total=   1.9s\n"
     ]
    },
    {
     "name": "stderr",
     "output_type": "stream",
     "text": [
      "[Parallel(n_jobs=-1)]: Done  72 out of  72 | elapsed:   25.8s finished\n"
     ]
    },
    {
     "data": {
      "text/plain": [
       "GridSearchCV(cv=3, error_score='raise',\n",
       "       estimator=AdaBoostClassifier(algorithm='SAMME.R',\n",
       "          base_estimator=DecisionTreeClassifier(class_weight=None, criterion='gini', max_depth=None,\n",
       "            max_features=None, max_leaf_nodes=None,\n",
       "            min_impurity_decrease=0.0, min_impurity_split=None,\n",
       "            min_samples_leaf=1, min_samples_split=2,\n",
       "            min_weight_fraction_leaf=0.0, presort=False, random_state=None,\n",
       "            splitter='best'),\n",
       "          learning_rate=1.0, n_estimators=50, random_state=None),\n",
       "       fit_params=None, iid=True, n_jobs=-1,\n",
       "       param_grid={'learning_rate': [1e-05, 0.0001, 0.001, 0.01, 0.1, 1], 'n_estimators': [500, 400], 'algorithm': ['SAMME', 'SAMME.R']},\n",
       "       pre_dispatch='2*n_jobs', refit=True, return_train_score=True,\n",
       "       scoring=None, verbose=10)"
      ]
     },
     "execution_count": 2,
     "metadata": {},
     "output_type": "execute_result"
    }
   ],
   "source": [
    "import pandas as pd\n",
    "import numpy as np\n",
    "from sklearn.ensemble import RandomForestClassifier\n",
    "from sklearn.tree import DecisionTreeClassifier\n",
    "from sklearn.cross_validation import cross_val_score\n",
    "from sklearn import metrics\n",
    "from sklearn.model_selection import train_test_split, cross_val_score, GridSearchCV\n",
    "import matplotlib.pyplot as pt\n",
    "from sklearn.ensemble import AdaBoostClassifier\n",
    "\n",
    "import time\n",
    "\n",
    "start_time = time.time()\n",
    "\n",
    "\n",
    "\n",
    "train_df = pd.read_csv('mnist-in-csv/mnist_train.csv')\n",
    "train_df = train_df.sample(n=10000)\n",
    "\n",
    "X_tr = train_df.values[:, 1:].astype(float)\n",
    "Y_tr = train_df.values[:, 0]\n",
    "\n",
    "print ('training...')\n",
    "clf = DecisionTreeClassifier()\n",
    "\n",
    "AdaBoost = AdaBoostClassifier(base_estimator=clf)#,learning_rate=0.001)#,algorithm='SAMME')\n",
    "params = {'learning_rate': [0.00001,0.0001,0.001,0.01,0.1,1],'n_estimators':[500,400],'algorithm':['SAMME','SAMME.R']}\n",
    "AdaBoost = GridSearchCV(AdaBoost, params, verbose=10, n_jobs=-1, cv=3)\n",
    "AdaBoost.fit(X_tr,Y_tr)\n",
    "\n",
    "\n"
   ]
  },
  {
   "cell_type": "code",
   "execution_count": 3,
   "metadata": {
    "collapsed": false,
    "deletable": true,
    "editable": true
   },
   "outputs": [
    {
     "name": "stdout",
     "output_type": "stream",
     "text": [
      "The accuracy is:  82.88 %\n"
     ]
    },
    {
     "data": {
      "image/png": "[encoded data removed]",
      "text/plain": [
       "<Figure size 432x288 with 1 Axes>"
      ]
     },
     "metadata": {},
     "output_type": "display_data"
    }
   ],
   "source": [
    "\n",
    "\n",
    "# Read test data\n",
    "test_df = pd.read_csv('mnist-in-csv/mnist_test.csv')\n",
    "test_df = test_df.sample(n=5000)\n",
    "X_test = test_df.values[:,1:].astype(float)\n",
    "Y_test = test_df.values[:,0]\n",
    "\n",
    "prediction = AdaBoost.score(X_test,Y_test)\n",
    "\n",
    "print('The accuracy is: ',prediction*100,'%')\n",
    "\n",
    "d = X_test[4]\n",
    "d.shape=(28,28)\n",
    "pt.imshow(255-d,cmap='gray')\n",
    "pt.show();\n"
   ]
  },
  {
   "cell_type": "code",
   "execution_count": 4,
   "metadata": {
    "collapsed": false,
    "deletable": true,
    "editable": true
   },
   "outputs": [
    {
     "name": "stdout",
     "output_type": "stream",
     "text": [
      "0.826114304672\n",
      "0.8288\n",
      "0.828286011105\n"
     ]
    }
   ],
   "source": [
    "# Calculating F1 score\n",
    "prediction = AdaBoost.predict(X_test)\n",
    "\n",
    "from sklearn.metrics import f1_score\n",
    "print(f1_score(test_df.values[:,0], prediction, average='macro'))\n",
    "print(f1_score(test_df.values[:,0], prediction, average='micro'))\n",
    "print(f1_score(test_df.values[:,0], prediction, average='weighted'))"
   ]
  },
  {
   "cell_type": "code",
   "execution_count": 5,
   "metadata": {
    "collapsed": false,
    "deletable": true,
    "editable": true
   },
   "outputs": [
    {
     "name": "stdout",
     "output_type": "stream",
     "text": [
      "Confusion matrix, without normalization\n",
      "Normalized confusion matrix\n"
     ]
    },
    {
     "data": {
      "image/png": "[encoded data removed]",
      "text/plain": [
       "<Figure size 432x288 with 2 Axes>"
      ]
     },
     "metadata": {},
     "output_type": "display_data"
    },
    {
     "data": {
      "image/png": "[encoded data removed]",
      "text/plain": [
       "<Figure size 432x288 with 2 Axes>"
      ]
     },
     "metadata": {},
     "output_type": "display_data"
    }
   ],
   "source": [
    "# Plotting confusion matrix\n",
    "import itertools\n",
    "from sklearn.metrics import confusion_matrix\n",
    "def plot_confusion_matrix(cm, classes,\n",
    "                          normalize=False,\n",
    "                          title='Confusion matrix',\n",
    "                          cmap=pt.cm.Blues):\n",
    "    \"\"\"\n",
    "    This function prints and plots the confusion matrix.\n",
    "    Normalization can be applied by setting `normalize=True`.\n",
    "    \"\"\"\n",
    "    if normalize:\n",
    "        cm = cm.astype('float') / cm.sum(axis=1)[:, np.newaxis]\n",
    "        print(\"Normalized confusion matrix\")\n",
    "    else:\n",
    "        print('Confusion matrix, without normalization')\n",
    "\n",
    "#     print(cm)\n",
    "\n",
    "    pt.imshow(cm, interpolation='nearest', cmap=cmap)\n",
    "    pt.title(title)\n",
    "    pt.colorbar()\n",
    "    tick_marks = np.arange(len(classes))\n",
    "    pt.xticks(tick_marks, classes, rotation=45)\n",
    "    pt.yticks(tick_marks, classes)\n",
    "\n",
    "    fmt = '.2f' if normalize else 'd'\n",
    "    thresh = cm.max() / 2.\n",
    "    for i, j in itertools.product(range(cm.shape[0]), range(cm.shape[1])):\n",
    "        pt.text(j, i, format(cm[i, j], fmt),\n",
    "                 horizontalalignment=\"center\",\n",
    "                 color=\"white\" if cm[i, j] > thresh else \"black\")\n",
    "\n",
    "    pt.tight_layout()\n",
    "    pt.ylabel('True label')\n",
    "    pt.xlabel('Predicted label')\n",
    "\n",
    "cnf_matrix = confusion_matrix(test_df.values[:,0], Y_test)\n",
    "pt.figure()\n",
    "plot_confusion_matrix(cnf_matrix, classes=[0,1,2,3,4,5,6,7,8,9],\n",
    "                      title='Confusion matrix, without normalization')\n",
    "pt.figure()\n",
    "plot_confusion_matrix(cnf_matrix, classes=[0,1,2,3,4,5,6,7,8,9],normalize=True,\n",
    "                      title='Confusion matrix, with normalization - Adaboost - MNIST ')\n",
    "pt.show()"
   ]
  },
  {
   "cell_type": "code",
   "execution_count": 6,
   "metadata": {
    "collapsed": false,
    "deletable": true,
    "editable": true
   },
   "outputs": [
    {
     "data": {
      "image/png": "[encoded data removed]",
      "text/plain": [
       "<Figure size 432x288 with 1 Axes>"
      ]
     },
     "metadata": {},
     "output_type": "display_data"
    }
   ],
   "source": [
    "# Generate learning curve plot\n",
    "\n",
    "from sklearn.model_selection import learning_curve\n",
    "from sklearn.model_selection import ShuffleSplit\n",
    "\n",
    "\n",
    "def plot_learning_curve(estimator, title, X, y, ylim=None, cv=None,\n",
    "                        n_jobs=1, train_sizes=np.linspace(.1, 1.0, 5)):\n",
    "    \"\"\"\n",
    "    Generate a simple plot of the test and training learning curve.\n",
    "\n",
    "    Parameters\n",
    "    ----------\n",
    "    estimator : object type that implements the \"fit\" and \"predict\" methods\n",
    "        An object of that type which is cloned for each validation.\n",
    "\n",
    "    title : string\n",
    "        Title for the chart.\n",
    "\n",
    "    X : array-like, shape (n_samples, n_features)\n",
    "        Training vector, where n_samples is the number of samples and\n",
    "        n_features is the number of features.\n",
    "\n",
    "    y : array-like, shape (n_samples) or (n_samples, n_features), optional\n",
    "        Target relative to X for classification or regression;\n",
    "        None for unsupervised learning.\n",
    "\n",
    "    ylim : tuple, shape (ymin, ymax), optional\n",
    "        Defines minimum and maximum yvalues plotted.\n",
    "\n",
    "    cv : int, cross-validation generator or an iterable, optional\n",
    "        Determines the cross-validation splitting strategy.\n",
    "        Possible inputs for cv are:\n",
    "          - None, to use the default 3-fold cross-validation,\n",
    "          - integer, to specify the number of folds.\n",
    "          - An object to be used as a cross-validation generator.\n",
    "          - An iterable yielding train/test splits.\n",
    "\n",
    "        For integer/None inputs, if ``y`` is binary or multiclass,\n",
    "        :class:`StratifiedKFold` used. If the estimator is not a classifier\n",
    "        or if ``y`` is neither binary nor multiclass, :class:`KFold` is used.\n",
    "\n",
    "        Refer :ref:`User Guide <cross_validation>` for the various\n",
    "        cross-validators that can be used here.\n",
    "\n",
    "    n_jobs : integer, optional\n",
    "        Number of jobs to run in parallel (default 1).\n",
    "    \"\"\"\n",
    "    pt.figure()\n",
    "    pt.title(title)\n",
    "    if ylim is not None:\n",
    "        pt.ylim(*ylim)\n",
    "    pt.xlabel(\"Training examples\")\n",
    "    pt.ylabel(\"Score\")\n",
    "    train_sizes, train_scores, test_scores = learning_curve(\n",
    "        estimator, X, y, cv=cv, n_jobs=n_jobs, train_sizes=train_sizes)\n",
    "   \n",
    "    train_scores_mean = np.mean(train_scores, axis=1)\n",
    "    train_scores_std = np.std(train_scores, axis=1)\n",
    "    test_scores_mean = np.mean(test_scores, axis=1)\n",
    "    test_scores_std = np.std(test_scores, axis=1)\n",
    "    pt.grid()\n",
    "\n",
    "    pt.fill_between(train_sizes, train_scores_mean - train_scores_std,\n",
    "                     train_scores_mean + train_scores_std, alpha=0.1,\n",
    "                     color=\"r\")\n",
    "    pt.fill_between(train_sizes, test_scores_mean - test_scores_std,\n",
    "                     test_scores_mean + test_scores_std, alpha=0.1, color=\"g\")\n",
    "    pt.plot(train_sizes, train_scores_mean, 'o-', color=\"r\",\n",
    "             label=\"Training score\")\n",
    "    pt.plot(train_sizes, test_scores_mean, 'o-', color=\"g\",\n",
    "             label=\"Cross-validation score\")\n",
    "\n",
    "    pt.legend(loc=\"best\")\n",
    "    return pt\n",
    "cv = ShuffleSplit(n_splits=3, test_size=0.2, random_state=0)\n",
    "\n",
    "\n",
    "plot_learning_curve(clf, \"Learning curve for Boosted Decision Tree(Adaboost) - MNIST\", X_tr, Y_tr, ylim=(0.7, 1.01), cv=cv, n_jobs=1)\n",
    "\n",
    "pt.show()"
   ]
  }
 ],
 "metadata": {
  "kernelspec": {
   "display_name": "Python 3",
   "language": "python",
   "name": "python3"
  },
  "language_info": {
   "codemirror_mode": {
    "name": "ipython",
    "version": 3
   },
   "file_extension": ".py",
   "mimetype": "text/x-python",
   "name": "python",
   "nbconvert_exporter": "python",
   "pygments_lexer": "ipython3",
   "version": "3.5.2"
  }
 },
 "nbformat": 4,
 "nbformat_minor": 2
}
